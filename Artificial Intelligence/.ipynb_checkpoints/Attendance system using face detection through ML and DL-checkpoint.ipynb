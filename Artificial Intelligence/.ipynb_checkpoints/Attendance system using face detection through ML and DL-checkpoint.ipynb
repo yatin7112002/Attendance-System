{
 "cells": [
  {
   "cell_type": "code",
   "execution_count": 1,
   "id": "a8195418",
   "metadata": {},
   "outputs": [],
   "source": [
    "import cv2\n",
    "import imutils\n",
    "import time\n",
    "import csv\n",
    "import os"
   ]
  },
  {
   "cell_type": "code",
   "execution_count": 2,
   "id": "eec201d4",
   "metadata": {},
   "outputs": [],
   "source": [
    "cascade = 'haarcascade_frontalface_default.xml'\n",
    "detector = cv2.CascadeClassifier(cascade)"
   ]
  },
  {
   "cell_type": "code",
   "execution_count": null,
   "id": "a1db840b",
   "metadata": {},
   "outputs": [],
   "source": [
    "Name = str(input(\"Enter your Name :\"))\n",
    "Roll_no = int(input(\"Enter you Roll No :\"))\n",
    "dataset = 'dataset'\n",
    "sub_data = Name\n",
    "path = os.path.join(dataset,sub_data)\n",
    "if not os.path.isdir(path):\n",
    "    os.mkdir(path)\n",
    "    print(sub_data)\n",
    "info = [str(Name),str(Roll_no)]\n",
    "with open('student.csv','a') as csvFile :\n",
    "    write = csv.writer(csvFile)\n",
    "    write.writerow(info)\n",
    "csvFile.close()\n",
    "\n",
    "print(\"Video is Streaming :\")\n",
    "cam = cv2.VideoCapture(0)\n",
    "time.sleep(1)\n",
    "total = 50\n",
    "while(total < 50) :\n",
    "    print(total)\n",
    "    frame = cam.read()[1]\n",
    "    image = imutils.resize(frame,width = 400)\n",
    "    rects = detector.detectMultiScale(cv2.cvtColor(img,cv2.COLOR_BGR2GRAY),scaleFactor = 1.1,minNeighbors=5,minSize = (30,30))\n",
    "    \n",
    "    for(x,y,width.height) in rects :\n",
    "        cv2.rectangle(frame)"
   ]
  }
 ],
 "metadata": {
  "kernelspec": {
   "display_name": "Python 3 (ipykernel)",
   "language": "python",
   "name": "python3"
  },
  "language_info": {
   "codemirror_mode": {
    "name": "ipython",
    "version": 3
   },
   "file_extension": ".py",
   "mimetype": "text/x-python",
   "name": "python",
   "nbconvert_exporter": "python",
   "pygments_lexer": "ipython3",
   "version": "3.9.13"
  }
 },
 "nbformat": 4,
 "nbformat_minor": 5
}
