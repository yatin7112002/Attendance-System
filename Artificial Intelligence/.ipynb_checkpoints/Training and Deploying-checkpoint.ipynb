{
 "cells": [
  {
   "cell_type": "code",
   "execution_count": 1,
   "id": "68a588fb",
   "metadata": {},
   "outputs": [],
   "source": [
    "from sklearn.preprocessing import LabelEncoder\n",
    "from sklearn.svm import SVC\n",
    "import pickle"
   ]
  },
  {
   "cell_type": "code",
   "execution_count": 4,
   "id": "f9de74c5",
   "metadata": {},
   "outputs": [],
   "source": [
    "from imutils import paths\n",
    "import numpy as np\n",
    "import imutils\n",
    "import pickle\n",
    "import cv2\n",
    "import os"
   ]
  },
  {
   "cell_type": "code",
   "execution_count": 5,
   "id": "88f29429",
   "metadata": {},
   "outputs": [],
   "source": [
    "if not os.path.isfile(\"test_pkl.pkl\"):\n",
    "    with open(\"recognizer.pickle\",'wb') as file:\n",
    "        pickle.dump(\"some obejct\", file)"
   ]
  },
  {
   "cell_type": "code",
   "execution_count": 6,
   "id": "d94dff22",
   "metadata": {},
   "outputs": [],
   "source": [
    "if not os.path.isfile(\"test_pkl.pkl\"):\n",
    "    with open(\"le.pickle\",'wb') as file:\n",
    "        pickle.dump(\"some obejct\", file)"
   ]
  },
  {
   "cell_type": "code",
   "execution_count": 7,
   "id": "8237e765",
   "metadata": {},
   "outputs": [],
   "source": [
    "embeddingFile = \"embeddings.pickle\""
   ]
  },
  {
   "cell_type": "code",
   "execution_count": 8,
   "id": "e6608b9a",
   "metadata": {},
   "outputs": [],
   "source": [
    "recognizerFile = \"recognizer.pickle\"\n",
    "labelEncFile = \"le.pickle\""
   ]
  },
  {
   "cell_type": "code",
   "execution_count": 9,
   "id": "7f1804e7",
   "metadata": {},
   "outputs": [
    {
     "name": "stdout",
     "output_type": "stream",
     "text": [
      "Loading face embeddings...\n",
      "Encoding Labels...\n",
      "Training model...\n"
     ]
    }
   ],
   "source": [
    "print(\"Loading face embeddings...\")\n",
    "data = pickle.loads(open(embeddingFile,\"rb\").read())\n",
    "\n",
    "print(\"Encoding Labels...\")\n",
    "labelEnc = LabelEncoder()\n",
    "labels = labelEnc.fit_transform(data[\"names\"])\n",
    "\n",
    "print(\"Training model...\")\n",
    "recognizer = SVC(C=1.0,kernel = \"linear\",probability = True)\n",
    "recognizer.fit(data[\"embeddings\"],labels)\n",
    "\n",
    "f = open(recognizerFile,\"wb\")\n",
    "f.write(pickle.dumps(recognizer))\n",
    "f.close()\n",
    "\n",
    "f = open(labelEncFile,\"wb\")\n",
    "f.write(pickle.dumps(labelEnc))\n",
    "f.close()"
   ]
  },
  {
   "cell_type": "code",
   "execution_count": null,
   "id": "be05628f",
   "metadata": {},
   "outputs": [],
   "source": []
  }
 ],
 "metadata": {
  "kernelspec": {
   "display_name": "Python 3 (ipykernel)",
   "language": "python",
   "name": "python3"
  },
  "language_info": {
   "codemirror_mode": {
    "name": "ipython",
    "version": 3
   },
   "file_extension": ".py",
   "mimetype": "text/x-python",
   "name": "python",
   "nbconvert_exporter": "python",
   "pygments_lexer": "ipython3",
   "version": "3.9.13"
  }
 },
 "nbformat": 4,
 "nbformat_minor": 5
}
