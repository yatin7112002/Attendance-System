{
 "cells": [
  {
   "cell_type": "code",
   "execution_count": 1,
   "id": "cb771d3c",
   "metadata": {},
   "outputs": [],
   "source": [
    "import cv2\n",
    "import imutils"
   ]
  },
  {
   "cell_type": "code",
   "execution_count": 2,
   "id": "32c93bed",
   "metadata": {},
   "outputs": [],
   "source": [
    "img = cv2.imread(\"sample.jpg\")"
   ]
  },
  {
   "cell_type": "code",
   "execution_count": 3,
   "id": "8a3008d3",
   "metadata": {},
   "outputs": [],
   "source": [
    "res_img = imutils.resize(img,width = 750)"
   ]
  },
  {
   "cell_type": "code",
   "execution_count": 4,
   "id": "1b71d815",
   "metadata": {},
   "outputs": [],
   "source": [
    "cv2.imshow(\"resized image.jpg\",res_img)\n",
    "cv2.imwrite(\"res_img.jpg\",res_img)\n",
    "cv2.waitKey(0)\n",
    "cv2.destroyAllWindows()"
   ]
  },
  {
   "cell_type": "code",
   "execution_count": 5,
   "id": "64924dee",
   "metadata": {},
   "outputs": [],
   "source": [
    "## using Gaussian Blurr"
   ]
  },
  {
   "cell_type": "code",
   "execution_count": 6,
   "id": "6adeeead",
   "metadata": {},
   "outputs": [],
   "source": [
    "gaussian_blur_img = cv2.GaussianBlur(img,(21,21),0)"
   ]
  },
  {
   "cell_type": "code",
   "execution_count": 9,
   "id": "3120710f",
   "metadata": {},
   "outputs": [
    {
     "data": {
      "text/plain": [
       "-1"
      ]
     },
     "execution_count": 9,
     "metadata": {},
     "output_type": "execute_result"
    }
   ],
   "source": [
    "cv2.imshow(\"gaussian_blur_img.jpg\",gaussian_blur_img)\n",
    "cv2.imwrite(\"gaussian_blur_img.jpg\",gaussian_blur_img)\n",
    "cv2.waitKey(0)"
   ]
  },
  {
   "cell_type": "code",
   "execution_count": 10,
   "id": "ca832b6a",
   "metadata": {},
   "outputs": [],
   "source": [
    "## thresholding"
   ]
  },
  {
   "cell_type": "code",
   "execution_count": 17,
   "id": "c5a8a6d8",
   "metadata": {},
   "outputs": [],
   "source": [
    "gray_img  = cv2.cvtColor(img,cv2.COLOR_BGR2GRAY)"
   ]
  },
  {
   "cell_type": "code",
   "execution_count": 35,
   "id": "51677d0c",
   "metadata": {},
   "outputs": [],
   "source": [
    "thresh_img = cv2.threshold(gray_img,180,255,cv2.THRESH_BINARY)[1]"
   ]
  },
  {
   "cell_type": "code",
   "execution_count": 37,
   "id": "c5454435",
   "metadata": {},
   "outputs": [
    {
     "data": {
      "text/plain": [
       "-1"
      ]
     },
     "execution_count": 37,
     "metadata": {},
     "output_type": "execute_result"
    }
   ],
   "source": [
    "cv2.imshow(\"thresh_img.jpg\",thresh_img)\n",
    "cv2.imwrite(\"thresh_img.jpg\",thresh_img)\n",
    "cv2.waitKey(0)"
   ]
  },
  {
   "cell_type": "code",
   "execution_count": null,
   "id": "accc7b22",
   "metadata": {},
   "outputs": [],
   "source": []
  }
 ],
 "metadata": {
  "kernelspec": {
   "display_name": "Python 3 (ipykernel)",
   "language": "python",
   "name": "python3"
  },
  "language_info": {
   "codemirror_mode": {
    "name": "ipython",
    "version": 3
   },
   "file_extension": ".py",
   "mimetype": "text/x-python",
   "name": "python",
   "nbconvert_exporter": "python",
   "pygments_lexer": "ipython3",
   "version": "3.9.13"
  }
 },
 "nbformat": 4,
 "nbformat_minor": 5
}
